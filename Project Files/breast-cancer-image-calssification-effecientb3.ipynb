{
 "cells": [
  {
   "cell_type": "code",
   "execution_count": 1,
   "id": "2a260585",
   "metadata": {
    "_cell_guid": "b1076dfc-b9ad-4769-8c92-a6c4dae69d19",
    "_uuid": "8f2839f25d086af736a60e9eeb907d3b93b6e0e5",
    "execution": {
     "iopub.execute_input": "2024-07-23T23:58:18.199184Z",
     "iopub.status.busy": "2024-07-23T23:58:18.198802Z",
     "iopub.status.idle": "2024-07-23T23:58:32.407260Z",
     "shell.execute_reply": "2024-07-23T23:58:32.406039Z"
    },
    "papermill": {
     "duration": 14.216816,
     "end_time": "2024-07-23T23:58:32.409498",
     "exception": false,
     "start_time": "2024-07-23T23:58:18.192682",
     "status": "completed"
    },
    "tags": []
   },
   "outputs": [
    {
     "name": "stdout",
     "output_type": "stream",
     "text": [
      "WARNING:tensorflow:From c:\\Users\\saidi\\AppData\\Local\\Programs\\Python\\Python311\\Lib\\site-packages\\keras\\src\\losses.py:2976: The name tf.losses.sparse_softmax_cross_entropy is deprecated. Please use tf.compat.v1.losses.sparse_softmax_cross_entropy instead.\n",
      "\n",
      "modules loaded\n"
     ]
    }
   ],
   "source": [
    "# import system libs\n",
    "import os\n",
    "import time\n",
    "import shutil\n",
    "import pathlib\n",
    "import itertools\n",
    "from PIL import Image\n",
    "import cv2\n",
    "import numpy as np\n",
    "import pandas as pd\n",
    "# import Deep learning Libraries\n",
    "import tensorflow as tf\n",
    "from tensorflow import keras\n",
    "from tensorflow.keras.models import Sequential\n",
    "from tensorflow.keras.optimizers import Adam, Adamax\n",
    "from tensorflow.keras.preprocessing.image import ImageDataGenerator\n",
    "from tensorflow.keras.layers import Conv2D, MaxPooling2D, Flatten, Dense, Activation, Dropout, BatchNormalization\n",
    "from tensorflow.keras import regularizers\n",
    "\n",
    "import seaborn as sns\n",
    "sns.set_style('darkgrid')\n",
    "import matplotlib.pyplot as plt\n",
    "from sklearn.model_selection import train_test_split\n",
    "from sklearn.metrics import confusion_matrix, classification_report\n",
    "\n",
    "# Ignore Warnings\n",
    "import warnings\n",
    "warnings.filterwarnings(\"ignore\")\n",
    "\n",
    "print ('modules loaded')"
   ]
  },
  {
   "cell_type": "code",
   "execution_count": 2,
   "id": "e94b1d22",
   "metadata": {
    "execution": {
     "iopub.execute_input": "2024-07-23T23:58:32.430083Z",
     "iopub.status.busy": "2024-07-23T23:58:32.429376Z",
     "iopub.status.idle": "2024-07-23T23:58:32.831695Z",
     "shell.execute_reply": "2024-07-23T23:58:32.830749Z"
    },
    "papermill": {
     "duration": 0.410454,
     "end_time": "2024-07-23T23:58:32.834039",
     "exception": false,
     "start_time": "2024-07-23T23:58:32.423585",
     "status": "completed"
    },
    "tags": []
   },
   "outputs": [],
   "source": [
    "# Generate data paths with labels\n",
    "data_dir = 'Dataset_BUSI_with_GT'\n",
    "filepaths = []\n",
    "labels = []\n",
    "\n",
    "folds = os.listdir(data_dir)\n",
    "for fold in folds:\n",
    "    foldpath = os.path.join(data_dir, fold)\n",
    "    filelist = os.listdir(foldpath)\n",
    "    for file in filelist:\n",
    "        fpath = os.path.join(foldpath, file)\n",
    "        \n",
    "        filepaths.append(fpath)\n",
    "        labels.append(fold)\n",
    "        \n",
    "# Concatenate data paths with labels into one dataframe\n",
    "Fseries = pd.Series(filepaths, name= 'filepaths')\n",
    "Lseries = pd.Series(labels, name='labels')\n",
    "df = pd.concat([Fseries, Lseries], axis= 1)"
   ]
  },
  {
   "cell_type": "code",
   "execution_count": 3,
   "id": "9b2ffabc",
   "metadata": {
    "execution": {
     "iopub.execute_input": "2024-07-23T23:58:32.844602Z",
     "iopub.status.busy": "2024-07-23T23:58:32.844273Z",
     "iopub.status.idle": "2024-07-23T23:58:32.863320Z",
     "shell.execute_reply": "2024-07-23T23:58:32.862461Z"
    },
    "papermill": {
     "duration": 0.026572,
     "end_time": "2024-07-23T23:58:32.865304",
     "exception": false,
     "start_time": "2024-07-23T23:58:32.838732",
     "status": "completed"
    },
    "tags": []
   },
   "outputs": [
    {
     "data": {
      "text/html": [
       "<div>\n",
       "<style scoped>\n",
       "    .dataframe tbody tr th:only-of-type {\n",
       "        vertical-align: middle;\n",
       "    }\n",
       "\n",
       "    .dataframe tbody tr th {\n",
       "        vertical-align: top;\n",
       "    }\n",
       "\n",
       "    .dataframe thead th {\n",
       "        text-align: right;\n",
       "    }\n",
       "</style>\n",
       "<table border=\"1\" class=\"dataframe\">\n",
       "  <thead>\n",
       "    <tr style=\"text-align: right;\">\n",
       "      <th></th>\n",
       "      <th>filepaths</th>\n",
       "      <th>labels</th>\n",
       "    </tr>\n",
       "  </thead>\n",
       "  <tbody>\n",
       "    <tr>\n",
       "      <th>0</th>\n",
       "      <td>Dataset_BUSI_with_GT\\benign\\benign (1).png</td>\n",
       "      <td>benign</td>\n",
       "    </tr>\n",
       "    <tr>\n",
       "      <th>1</th>\n",
       "      <td>Dataset_BUSI_with_GT\\benign\\benign (1)_mask.png</td>\n",
       "      <td>benign</td>\n",
       "    </tr>\n",
       "    <tr>\n",
       "      <th>2</th>\n",
       "      <td>Dataset_BUSI_with_GT\\benign\\benign (10).png</td>\n",
       "      <td>benign</td>\n",
       "    </tr>\n",
       "    <tr>\n",
       "      <th>3</th>\n",
       "      <td>Dataset_BUSI_with_GT\\benign\\benign (10)_mask.png</td>\n",
       "      <td>benign</td>\n",
       "    </tr>\n",
       "    <tr>\n",
       "      <th>4</th>\n",
       "      <td>Dataset_BUSI_with_GT\\benign\\benign (100).png</td>\n",
       "      <td>benign</td>\n",
       "    </tr>\n",
       "    <tr>\n",
       "      <th>...</th>\n",
       "      <td>...</td>\n",
       "      <td>...</td>\n",
       "    </tr>\n",
       "    <tr>\n",
       "      <th>1307</th>\n",
       "      <td>Dataset_BUSI_with_GT\\malignant\\malignant (97)_...</td>\n",
       "      <td>malignant</td>\n",
       "    </tr>\n",
       "    <tr>\n",
       "      <th>1308</th>\n",
       "      <td>Dataset_BUSI_with_GT\\malignant\\malignant (98).png</td>\n",
       "      <td>malignant</td>\n",
       "    </tr>\n",
       "    <tr>\n",
       "      <th>1309</th>\n",
       "      <td>Dataset_BUSI_with_GT\\malignant\\malignant (98)_...</td>\n",
       "      <td>malignant</td>\n",
       "    </tr>\n",
       "    <tr>\n",
       "      <th>1310</th>\n",
       "      <td>Dataset_BUSI_with_GT\\malignant\\malignant (99).png</td>\n",
       "      <td>malignant</td>\n",
       "    </tr>\n",
       "    <tr>\n",
       "      <th>1311</th>\n",
       "      <td>Dataset_BUSI_with_GT\\malignant\\malignant (99)_...</td>\n",
       "      <td>malignant</td>\n",
       "    </tr>\n",
       "  </tbody>\n",
       "</table>\n",
       "<p>1312 rows × 2 columns</p>\n",
       "</div>"
      ],
      "text/plain": [
       "                                              filepaths     labels\n",
       "0            Dataset_BUSI_with_GT\\benign\\benign (1).png     benign\n",
       "1       Dataset_BUSI_with_GT\\benign\\benign (1)_mask.png     benign\n",
       "2           Dataset_BUSI_with_GT\\benign\\benign (10).png     benign\n",
       "3      Dataset_BUSI_with_GT\\benign\\benign (10)_mask.png     benign\n",
       "4          Dataset_BUSI_with_GT\\benign\\benign (100).png     benign\n",
       "...                                                 ...        ...\n",
       "1307  Dataset_BUSI_with_GT\\malignant\\malignant (97)_...  malignant\n",
       "1308  Dataset_BUSI_with_GT\\malignant\\malignant (98).png  malignant\n",
       "1309  Dataset_BUSI_with_GT\\malignant\\malignant (98)_...  malignant\n",
       "1310  Dataset_BUSI_with_GT\\malignant\\malignant (99).png  malignant\n",
       "1311  Dataset_BUSI_with_GT\\malignant\\malignant (99)_...  malignant\n",
       "\n",
       "[1312 rows x 2 columns]"
      ]
     },
     "execution_count": 3,
     "metadata": {},
     "output_type": "execute_result"
    }
   ],
   "source": [
    "df"
   ]
  },
  {
   "cell_type": "code",
   "execution_count": 4,
   "id": "238c0c84",
   "metadata": {
    "execution": {
     "iopub.execute_input": "2024-07-23T23:58:32.875690Z",
     "iopub.status.busy": "2024-07-23T23:58:32.875403Z",
     "iopub.status.idle": "2024-07-23T23:58:32.887765Z",
     "shell.execute_reply": "2024-07-23T23:58:32.886811Z"
    },
    "papermill": {
     "duration": 0.019791,
     "end_time": "2024-07-23T23:58:32.889773",
     "exception": false,
     "start_time": "2024-07-23T23:58:32.869982",
     "status": "completed"
    },
    "tags": []
   },
   "outputs": [],
   "source": [
    "strat = df['labels']\n",
    "train_df, test_df = train_test_split(df,  train_size= 0.8, shuffle= True, random_state= 123, stratify= strat)"
   ]
  },
  {
   "cell_type": "code",
   "execution_count": 6,
   "id": "c46356cf",
   "metadata": {},
   "outputs": [
    {
     "data": {
      "text/html": [
       "<div>\n",
       "<style scoped>\n",
       "    .dataframe tbody tr th:only-of-type {\n",
       "        vertical-align: middle;\n",
       "    }\n",
       "\n",
       "    .dataframe tbody tr th {\n",
       "        vertical-align: top;\n",
       "    }\n",
       "\n",
       "    .dataframe thead th {\n",
       "        text-align: right;\n",
       "    }\n",
       "</style>\n",
       "<table border=\"1\" class=\"dataframe\">\n",
       "  <thead>\n",
       "    <tr style=\"text-align: right;\">\n",
       "      <th></th>\n",
       "      <th>filepaths</th>\n",
       "      <th>labels</th>\n",
       "    </tr>\n",
       "  </thead>\n",
       "  <tbody>\n",
       "    <tr>\n",
       "      <th>632</th>\n",
       "      <td>Dataset_BUSI_with_GT\\benign\\benign (38)_mask.png</td>\n",
       "      <td>benign</td>\n",
       "    </tr>\n",
       "    <tr>\n",
       "      <th>1093</th>\n",
       "      <td>Dataset_BUSI_with_GT\\malignant\\malignant (190)...</td>\n",
       "      <td>malignant</td>\n",
       "    </tr>\n",
       "    <tr>\n",
       "      <th>1071</th>\n",
       "      <td>Dataset_BUSI_with_GT\\malignant\\malignant (180)...</td>\n",
       "      <td>malignant</td>\n",
       "    </tr>\n",
       "    <tr>\n",
       "      <th>487</th>\n",
       "      <td>Dataset_BUSI_with_GT\\benign\\benign (315).png</td>\n",
       "      <td>benign</td>\n",
       "    </tr>\n",
       "    <tr>\n",
       "      <th>1011</th>\n",
       "      <td>Dataset_BUSI_with_GT\\malignant\\malignant (153)...</td>\n",
       "      <td>malignant</td>\n",
       "    </tr>\n",
       "    <tr>\n",
       "      <th>...</th>\n",
       "      <td>...</td>\n",
       "      <td>...</td>\n",
       "    </tr>\n",
       "    <tr>\n",
       "      <th>866</th>\n",
       "      <td>Dataset_BUSI_with_GT\\benign\\benign (9).png</td>\n",
       "      <td>benign</td>\n",
       "    </tr>\n",
       "    <tr>\n",
       "      <th>248</th>\n",
       "      <td>Dataset_BUSI_with_GT\\benign\\benign (208).png</td>\n",
       "      <td>benign</td>\n",
       "    </tr>\n",
       "    <tr>\n",
       "      <th>674</th>\n",
       "      <td>Dataset_BUSI_with_GT\\benign\\benign (399)_mask.png</td>\n",
       "      <td>benign</td>\n",
       "    </tr>\n",
       "    <tr>\n",
       "      <th>836</th>\n",
       "      <td>Dataset_BUSI_with_GT\\benign\\benign (76)_mask.png</td>\n",
       "      <td>benign</td>\n",
       "    </tr>\n",
       "    <tr>\n",
       "      <th>1187</th>\n",
       "      <td>Dataset_BUSI_with_GT\\malignant\\malignant (43).png</td>\n",
       "      <td>malignant</td>\n",
       "    </tr>\n",
       "  </tbody>\n",
       "</table>\n",
       "<p>1049 rows × 2 columns</p>\n",
       "</div>"
      ],
      "text/plain": [
       "                                              filepaths     labels\n",
       "632    Dataset_BUSI_with_GT\\benign\\benign (38)_mask.png     benign\n",
       "1093  Dataset_BUSI_with_GT\\malignant\\malignant (190)...  malignant\n",
       "1071  Dataset_BUSI_with_GT\\malignant\\malignant (180)...  malignant\n",
       "487        Dataset_BUSI_with_GT\\benign\\benign (315).png     benign\n",
       "1011  Dataset_BUSI_with_GT\\malignant\\malignant (153)...  malignant\n",
       "...                                                 ...        ...\n",
       "866          Dataset_BUSI_with_GT\\benign\\benign (9).png     benign\n",
       "248        Dataset_BUSI_with_GT\\benign\\benign (208).png     benign\n",
       "674   Dataset_BUSI_with_GT\\benign\\benign (399)_mask.png     benign\n",
       "836    Dataset_BUSI_with_GT\\benign\\benign (76)_mask.png     benign\n",
       "1187  Dataset_BUSI_with_GT\\malignant\\malignant (43).png  malignant\n",
       "\n",
       "[1049 rows x 2 columns]"
      ]
     },
     "execution_count": 6,
     "metadata": {},
     "output_type": "execute_result"
    }
   ],
   "source": [
    "train_df"
   ]
  },
  {
   "cell_type": "code",
   "execution_count": 5,
   "id": "f868a612",
   "metadata": {
    "execution": {
     "iopub.execute_input": "2024-07-23T23:58:32.900451Z",
     "iopub.status.busy": "2024-07-23T23:58:32.900148Z",
     "iopub.status.idle": "2024-07-23T23:58:32.910433Z",
     "shell.execute_reply": "2024-07-23T23:58:32.909567Z"
    },
    "papermill": {
     "duration": 0.017959,
     "end_time": "2024-07-23T23:58:32.912541",
     "exception": false,
     "start_time": "2024-07-23T23:58:32.894582",
     "status": "completed"
    },
    "tags": []
   },
   "outputs": [
    {
     "data": {
      "text/html": [
       "<div>\n",
       "<style scoped>\n",
       "    .dataframe tbody tr th:only-of-type {\n",
       "        vertical-align: middle;\n",
       "    }\n",
       "\n",
       "    .dataframe tbody tr th {\n",
       "        vertical-align: top;\n",
       "    }\n",
       "\n",
       "    .dataframe thead th {\n",
       "        text-align: right;\n",
       "    }\n",
       "</style>\n",
       "<table border=\"1\" class=\"dataframe\">\n",
       "  <thead>\n",
       "    <tr style=\"text-align: right;\">\n",
       "      <th></th>\n",
       "      <th>filepaths</th>\n",
       "      <th>labels</th>\n",
       "    </tr>\n",
       "  </thead>\n",
       "  <tbody>\n",
       "    <tr>\n",
       "      <th>1224</th>\n",
       "      <td>Dataset_BUSI_with_GT\\malignant\\malignant (6).png</td>\n",
       "      <td>malignant</td>\n",
       "    </tr>\n",
       "    <tr>\n",
       "      <th>358</th>\n",
       "      <td>Dataset_BUSI_with_GT\\benign\\benign (257)_mask.png</td>\n",
       "      <td>benign</td>\n",
       "    </tr>\n",
       "    <tr>\n",
       "      <th>912</th>\n",
       "      <td>Dataset_BUSI_with_GT\\malignant\\malignant (108)...</td>\n",
       "      <td>malignant</td>\n",
       "    </tr>\n",
       "    <tr>\n",
       "      <th>539</th>\n",
       "      <td>Dataset_BUSI_with_GT\\benign\\benign (338)_mask.png</td>\n",
       "      <td>benign</td>\n",
       "    </tr>\n",
       "    <tr>\n",
       "      <th>900</th>\n",
       "      <td>Dataset_BUSI_with_GT\\malignant\\malignant (102)...</td>\n",
       "      <td>malignant</td>\n",
       "    </tr>\n",
       "    <tr>\n",
       "      <th>...</th>\n",
       "      <td>...</td>\n",
       "      <td>...</td>\n",
       "    </tr>\n",
       "    <tr>\n",
       "      <th>1008</th>\n",
       "      <td>Dataset_BUSI_with_GT\\malignant\\malignant (151)...</td>\n",
       "      <td>malignant</td>\n",
       "    </tr>\n",
       "    <tr>\n",
       "      <th>106</th>\n",
       "      <td>Dataset_BUSI_with_GT\\benign\\benign (146)_mask.png</td>\n",
       "      <td>benign</td>\n",
       "    </tr>\n",
       "    <tr>\n",
       "      <th>1003</th>\n",
       "      <td>Dataset_BUSI_with_GT\\malignant\\malignant (15).png</td>\n",
       "      <td>malignant</td>\n",
       "    </tr>\n",
       "    <tr>\n",
       "      <th>928</th>\n",
       "      <td>Dataset_BUSI_with_GT\\malignant\\malignant (115)...</td>\n",
       "      <td>malignant</td>\n",
       "    </tr>\n",
       "    <tr>\n",
       "      <th>213</th>\n",
       "      <td>Dataset_BUSI_with_GT\\benign\\benign (193)_mask.png</td>\n",
       "      <td>benign</td>\n",
       "    </tr>\n",
       "  </tbody>\n",
       "</table>\n",
       "<p>263 rows × 2 columns</p>\n",
       "</div>"
      ],
      "text/plain": [
       "                                              filepaths     labels\n",
       "1224   Dataset_BUSI_with_GT\\malignant\\malignant (6).png  malignant\n",
       "358   Dataset_BUSI_with_GT\\benign\\benign (257)_mask.png     benign\n",
       "912   Dataset_BUSI_with_GT\\malignant\\malignant (108)...  malignant\n",
       "539   Dataset_BUSI_with_GT\\benign\\benign (338)_mask.png     benign\n",
       "900   Dataset_BUSI_with_GT\\malignant\\malignant (102)...  malignant\n",
       "...                                                 ...        ...\n",
       "1008  Dataset_BUSI_with_GT\\malignant\\malignant (151)...  malignant\n",
       "106   Dataset_BUSI_with_GT\\benign\\benign (146)_mask.png     benign\n",
       "1003  Dataset_BUSI_with_GT\\malignant\\malignant (15).png  malignant\n",
       "928   Dataset_BUSI_with_GT\\malignant\\malignant (115)...  malignant\n",
       "213   Dataset_BUSI_with_GT\\benign\\benign (193)_mask.png     benign\n",
       "\n",
       "[263 rows x 2 columns]"
      ]
     },
     "execution_count": 5,
     "metadata": {},
     "output_type": "execute_result"
    }
   ],
   "source": [
    "test_df"
   ]
  },
  {
   "cell_type": "code",
   "execution_count": 7,
   "id": "da4f0262",
   "metadata": {
    "execution": {
     "iopub.execute_input": "2024-07-23T23:58:32.925119Z",
     "iopub.status.busy": "2024-07-23T23:58:32.924288Z",
     "iopub.status.idle": "2024-07-23T23:58:33.169541Z",
     "shell.execute_reply": "2024-07-23T23:58:33.168664Z"
    },
    "papermill": {
     "duration": 0.253629,
     "end_time": "2024-07-23T23:58:33.171619",
     "exception": false,
     "start_time": "2024-07-23T23:58:32.917990",
     "status": "completed"
    },
    "tags": []
   },
   "outputs": [
    {
     "name": "stdout",
     "output_type": "stream",
     "text": [
      "Found 1049 validated image filenames belonging to 2 classes.\n",
      "Found 263 validated image filenames belonging to 2 classes.\n"
     ]
    }
   ],
   "source": [
    "# crobed image size\n",
    "batch_size = 8\n",
    "img_size = (224, 224)\n",
    "channels = 3\n",
    "img_shape = (img_size[0], img_size[1], channels)\n",
    "\n",
    "tr_gen = ImageDataGenerator()\n",
    "ts_gen = ImageDataGenerator()\n",
    "\n",
    "train_gen = tr_gen.flow_from_dataframe( train_df, x_col= 'filepaths', y_col= 'labels', target_size= img_size, class_mode= 'categorical',\n",
    "                                    color_mode= 'rgb', shuffle= True, batch_size= batch_size)\n",
    "\n",
    "test_gen = ts_gen.flow_from_dataframe( test_df, x_col= 'filepaths', y_col= 'labels', target_size= img_size, class_mode= 'categorical',\n",
    "                                    color_mode= 'rgb', shuffle= False, batch_size= batch_size)"
   ]
  },
  {
   "cell_type": "code",
   "execution_count": 10,
   "id": "596b4784",
   "metadata": {},
   "outputs": [
    {
     "data": {
      "text/plain": [
       "{'benign': 0, 'malignant': 1}"
      ]
     },
     "execution_count": 10,
     "metadata": {},
     "output_type": "execute_result"
    }
   ],
   "source": [
    "train_gen.class_indices"
   ]
  },
  {
   "cell_type": "code",
   "execution_count": 9,
   "id": "9b90379c",
   "metadata": {},
   "outputs": [
    {
     "data": {
      "text/plain": [
       "{'benign': 0, 'malignant': 1}"
      ]
     },
     "execution_count": 9,
     "metadata": {},
     "output_type": "execute_result"
    }
   ],
   "source": [
    "test_gen.class_indices"
   ]
  },
  {
   "cell_type": "code",
   "execution_count": 11,
   "id": "fc41c738",
   "metadata": {
    "execution": {
     "iopub.execute_input": "2024-07-23T23:58:33.183450Z",
     "iopub.status.busy": "2024-07-23T23:58:33.183156Z",
     "iopub.status.idle": "2024-07-23T23:58:38.685184Z",
     "shell.execute_reply": "2024-07-23T23:58:38.684314Z"
    },
    "papermill": {
     "duration": 5.510364,
     "end_time": "2024-07-23T23:58:38.687548",
     "exception": false,
     "start_time": "2024-07-23T23:58:33.177184",
     "status": "completed"
    },
    "tags": []
   },
   "outputs": [
    {
     "name": "stdout",
     "output_type": "stream",
     "text": [
      "WARNING:tensorflow:From c:\\Users\\saidi\\AppData\\Local\\Programs\\Python\\Python311\\Lib\\site-packages\\keras\\src\\backend.py:1398: The name tf.executing_eagerly_outside_functions is deprecated. Please use tf.compat.v1.executing_eagerly_outside_functions instead.\n",
      "\n",
      "WARNING:tensorflow:From c:\\Users\\saidi\\AppData\\Local\\Programs\\Python\\Python311\\Lib\\site-packages\\keras\\src\\layers\\normalization\\batch_normalization.py:979: The name tf.nn.fused_batch_norm is deprecated. Please use tf.compat.v1.nn.fused_batch_norm instead.\n",
      "\n",
      "WARNING:tensorflow:From c:\\Users\\saidi\\AppData\\Local\\Programs\\Python\\Python311\\Lib\\site-packages\\keras\\src\\engine\\base_layer_utils.py:384: The name tf.executing_eagerly_outside_functions is deprecated. Please use tf.compat.v1.executing_eagerly_outside_functions instead.\n",
      "\n"
     ]
    }
   ],
   "source": [
    "# Create Model Structure\n",
    "img_size = (224, 224)\n",
    "channels = 3\n",
    "img_shape = (img_size[0], img_size[1], channels)\n",
    "class_count = len(list(train_gen.class_indices.keys())) # to define number of classes in dense layer\n",
    "\n",
    "# create pre-trained model (you can built on pretrained model such as :  efficientnet, VGG , Resnet )\n",
    "# we will use efficientnetb3 from EfficientNet family.\n",
    "base_model = tf.keras.applications.efficientnet.EfficientNetB3(include_top= False, weights= \"imagenet\", \n",
    "                                                               input_shape= img_shape, pooling= 'max')\n",
    "\n",
    "\n",
    "model = Sequential([\n",
    "    base_model,\n",
    "    BatchNormalization(axis= -1, momentum= 0.99, epsilon= 0.001),\n",
    "    Dense(256, kernel_regularizer= regularizers.l2(0.016), activity_regularizer= regularizers.l1(0.006),\n",
    "                bias_regularizer= regularizers.l1(0.006), activation= 'relu'),\n",
    "    Dropout(rate= 0.45, seed= 123),\n",
    "    Dense(class_count, activation= 'softmax')\n",
    "])\n",
    "\n",
    "\n",
    "model.compile(Adamax(learning_rate= 0.001), loss= 'categorical_crossentropy', metrics= ['accuracy'])\n",
    "\n"
   ]
  },
  {
   "cell_type": "code",
   "execution_count": 12,
   "id": "8c015ed7",
   "metadata": {
    "execution": {
     "iopub.execute_input": "2024-07-23T23:58:38.705819Z",
     "iopub.status.busy": "2024-07-23T23:58:38.705245Z",
     "iopub.status.idle": "2024-07-24T00:16:53.808451Z",
     "shell.execute_reply": "2024-07-24T00:16:53.807434Z"
    },
    "papermill": {
     "duration": 1095.114498,
     "end_time": "2024-07-24T00:16:53.810654",
     "exception": false,
     "start_time": "2024-07-23T23:58:38.696156",
     "status": "completed"
    },
    "tags": []
   },
   "outputs": [
    {
     "name": "stdout",
     "output_type": "stream",
     "text": [
      "WARNING:tensorflow:From c:\\Users\\saidi\\AppData\\Local\\Programs\\Python\\Python311\\Lib\\site-packages\\keras\\src\\utils\\tf_utils.py:492: The name tf.ragged.RaggedTensorValue is deprecated. Please use tf.compat.v1.ragged.RaggedTensorValue instead.\n",
      "\n",
      "132/132 [==============================] - 188s 1s/step - loss: 7.4294 - accuracy: 0.7703 - val_loss: 6.2176 - val_accuracy: 0.9087\n"
     ]
    }
   ],
   "source": [
    "epochs = 1   # number of all epochs in training\n",
    "\n",
    "history = model.fit(x= train_gen, epochs= epochs, verbose= 1, validation_data= test_gen, \n",
    "                    validation_steps= None, shuffle= False)"
   ]
  },
  {
   "cell_type": "code",
   "execution_count": 13,
   "id": "2d6bb2aa",
   "metadata": {
    "execution": {
     "iopub.execute_input": "2024-07-24T00:16:55.175793Z",
     "iopub.status.busy": "2024-07-24T00:16:55.175402Z",
     "iopub.status.idle": "2024-07-24T00:17:10.946229Z",
     "shell.execute_reply": "2024-07-24T00:17:10.945280Z"
    },
    "papermill": {
     "duration": 16.420869,
     "end_time": "2024-07-24T00:17:10.948213",
     "exception": false,
     "start_time": "2024-07-24T00:16:54.527344",
     "status": "completed"
    },
    "tags": []
   },
   "outputs": [
    {
     "name": "stdout",
     "output_type": "stream",
     "text": [
      "132/132 [==============================] - 70s 534ms/step - loss: 6.2400 - accuracy: 0.9075\n",
      "33/33 [==============================] - 10s 297ms/step - loss: 6.2176 - accuracy: 0.9087\n",
      "Train Loss:  6.23996639251709\n",
      "Train Accuracy:  0.9075309634208679\n",
      "--------------------\n",
      "Test Loss:  6.217626571655273\n",
      "Test Accuracy:  0.9087452292442322\n"
     ]
    }
   ],
   "source": [
    "train_score = model.evaluate(train_gen, verbose= 1)\n",
    "test_score = model.evaluate(test_gen, verbose= 1)\n",
    "\n",
    "print(\"Train Loss: \", train_score[0])\n",
    "print(\"Train Accuracy: \", train_score[1])\n",
    "print('-' * 20)\n",
    "print(\"Test Loss: \", test_score[0])\n",
    "print(\"Test Accuracy: \", test_score[1])"
   ]
  },
  {
   "cell_type": "code",
   "execution_count": 14,
   "id": "d6c21fb2",
   "metadata": {
    "execution": {
     "iopub.execute_input": "2024-07-24T00:17:12.321724Z",
     "iopub.status.busy": "2024-07-24T00:17:12.320974Z",
     "iopub.status.idle": "2024-07-24T00:17:31.391307Z",
     "shell.execute_reply": "2024-07-24T00:17:31.390308Z"
    },
    "papermill": {
     "duration": 19.782883,
     "end_time": "2024-07-24T00:17:31.393537",
     "exception": false,
     "start_time": "2024-07-24T00:17:11.610654",
     "status": "completed"
    },
    "tags": []
   },
   "outputs": [
    {
     "name": "stdout",
     "output_type": "stream",
     "text": [
      "33/33 [==============================] - 12s 285ms/step\n"
     ]
    }
   ],
   "source": [
    "preds = model.predict(test_gen)\n",
    "y_pred = np.argmax(preds, axis=1)"
   ]
  },
  {
   "cell_type": "code",
   "execution_count": 15,
   "id": "9090026b",
   "metadata": {
    "execution": {
     "iopub.execute_input": "2024-07-24T00:17:32.710913Z",
     "iopub.status.busy": "2024-07-24T00:17:32.709998Z",
     "iopub.status.idle": "2024-07-24T00:17:33.204439Z",
     "shell.execute_reply": "2024-07-24T00:17:33.203534Z"
    },
    "papermill": {
     "duration": 1.152692,
     "end_time": "2024-07-24T00:17:33.206419",
     "exception": false,
     "start_time": "2024-07-24T00:17:32.053727",
     "status": "completed"
    },
    "tags": []
   },
   "outputs": [
    {
     "data": {
      "image/png": "[encoded data removed]",
      "text/plain": [
       "<Figure size 1000x1000 with 2 Axes>"
      ]
     },
     "metadata": {},
     "output_type": "display_data"
    }
   ],
   "source": [
    "g_dict = test_gen.class_indices\n",
    "classes = list(g_dict.keys())\n",
    "\n",
    "# Confusion matrix\n",
    "cm = confusion_matrix(test_gen.classes, y_pred)\n",
    "\n",
    "plt.figure(figsize= (10, 10))\n",
    "plt.imshow(cm, interpolation= 'nearest', cmap= plt.cm.Blues)\n",
    "plt.title('Confusion Matrix')\n",
    "plt.colorbar()\n",
    "\n",
    "tick_marks = np.arange(len(classes))\n",
    "plt.xticks(tick_marks, classes, rotation= 45)\n",
    "plt.yticks(tick_marks, classes)\n",
    "\n",
    "\n",
    "thresh = cm.max() / 2.\n",
    "for i, j in itertools.product(range(cm.shape[0]), range(cm.shape[1])):\n",
    "    plt.text(j, i, cm[i, j], horizontalalignment= 'center', color= 'white' if cm[i, j] > thresh else 'black')\n",
    "\n",
    "plt.tight_layout()\n",
    "plt.ylabel('True Label')\n",
    "plt.xlabel('Predicted Label')\n",
    "\n",
    "plt.show()"
   ]
  },
  {
   "cell_type": "code",
   "execution_count": 16,
   "id": "f51a295b",
   "metadata": {
    "execution": {
     "iopub.execute_input": "2024-07-24T00:17:34.597475Z",
     "iopub.status.busy": "2024-07-24T00:17:34.597094Z",
     "iopub.status.idle": "2024-07-24T00:17:34.611273Z",
     "shell.execute_reply": "2024-07-24T00:17:34.610454Z"
    },
    "papermill": {
     "duration": 0.6814,
     "end_time": "2024-07-24T00:17:34.613170",
     "exception": false,
     "start_time": "2024-07-24T00:17:33.931770",
     "status": "completed"
    },
    "tags": []
   },
   "outputs": [
    {
     "name": "stdout",
     "output_type": "stream",
     "text": [
      "              precision    recall  f1-score   support\n",
      "\n",
      "      benign       0.91      0.96      0.93       179\n",
      "   malignant       0.91      0.80      0.85        84\n",
      "\n",
      "    accuracy                           0.91       263\n",
      "   macro avg       0.91      0.88      0.89       263\n",
      "weighted avg       0.91      0.91      0.91       263\n",
      "\n"
     ]
    }
   ],
   "source": [
    "# Classification report\n",
    "print(classification_report(test_gen.classes, y_pred, target_names= classes))"
   ]
  },
  {
   "cell_type": "code",
   "execution_count": 17,
   "id": "4cca1e1a",
   "metadata": {},
   "outputs": [
    {
     "data": {
      "image/png": "[encoded data removed]",
      "text/plain": [
       "<Figure size 1000x1000 with 1 Axes>"
      ]
     },
     "metadata": {},
     "output_type": "display_data"
    }
   ],
   "source": [
    "# roc curve\n",
    "from sklearn.metrics import roc_curve, auc\n",
    "from sklearn.preprocessing import label_binarize\n",
    "from scipy import interp\n",
    "from itertools import cycle\n",
    "plt.figure(figsize= (10, 10))\n",
    "plt.plot([0, 1], [0, 1], 'k--')\n",
    "plt.xlim([0.0, 1.0])\n",
    "plt.ylim([0.0, 1.05])\n",
    "plt.xlabel('False Positive Rate')\n",
    "plt.ylabel('True Positive Rate')\n",
    "plt.show()"
   ]
  }
 ],
 "metadata": {
  "kaggle": {
   "accelerator": "gpu",
   "dataSources": [
    {
     "datasetId": 1209633,
     "sourceId": 2021025,
     "sourceType": "datasetVersion"
    }
   ],
   "dockerImageVersionId": 30747,
   "isGpuEnabled": true,
   "isInternetEnabled": true,
   "language": "python",
   "sourceType": "notebook"
  },
  "kernelspec": {
   "display_name": "Python 3",
   "language": "python",
   "name": "python3"
  },
  "language_info": {
   "codemirror_mode": {
    "name": "ipython",
    "version": 3
   },
   "file_extension": ".py",
   "mimetype": "text/x-python",
   "name": "python",
   "nbconvert_exporter": "python",
   "pygments_lexer": "ipython3",
   "version": "3.11.4"
  },
  "papermill": {
   "default_parameters": {},
   "duration": 1165.964559,
   "end_time": "2024-07-24T00:17:41.325132",
   "environment_variables": {},
   "exception": null,
   "input_path": "__notebook__.ipynb",
   "output_path": "__notebook__.ipynb",
   "parameters": {},
   "start_time": "2024-07-23T23:58:15.360573",
   "version": "2.5.0"
  }
 },
 "nbformat": 4,
 "nbformat_minor": 5
}
